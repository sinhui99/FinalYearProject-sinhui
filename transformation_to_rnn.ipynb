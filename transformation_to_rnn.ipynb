{
 "cells": [
  {
   "cell_type": "code",
   "execution_count": 1,
   "metadata": {},
   "outputs": [],
   "source": [
    "import cv2     # for capturing videos\n",
    "import os \n",
    "import shutil\n",
    "import math   # for mathematical operations\n",
    "import pandas as pd\n",
    "import pickle\n",
    "import numpy as np   \n",
    "from sklearn.metrics import confusion_matrix\n",
    "from sklearn.metrics import accuracy_score\n",
    "from glob import glob\n",
    "from tqdm import tqdm\n",
    "import tensorflow as tf \n",
    "from tensorflow.keras.preprocessing import image   # for preprocessing the images\n",
    "from tensorflow.keras.models import Sequential\n",
    "from tensorflow.keras.layers import Dense\n",
    "from tensorflow.keras.layers import LSTM\n",
    "from tensorflow.keras.layers import Dropout\n",
    "from ax.service.ax_client import AxClient\n",
    "from ax.utils.notebook.plotting import render, init_notebook_plotting\n",
    "from tensorflow.keras.callbacks import ModelCheckpoint\n",
    "from sklearn.model_selection import train_test_split\n",
    "from tensorflow.keras.applications import ResNet50\n",
    "from tensorflow.keras.layers import Flatten, Input\n",
    "from tensorflow.keras.models import Model\n",
    "from tensorflow.keras.applications.resnet50 import preprocess_input\n",
    "from tensorflow.keras.callbacks import EarlyStopping\n",
    "from sklearn.model_selection import StratifiedKFold"
   ]
  },
  {
   "cell_type": "code",
   "execution_count": 14,
   "metadata": {},
   "outputs": [],
   "source": [
    "def transform_to_rnn_shape(each_video_frame, video_rnn, X, y, option, n):\n",
    "    each_video_frame = [int(i) for i in each_video_frame]\n",
    "    \n",
    "    X_rnn = []\n",
    "    y_rnn = []\n",
    "    frame_count = 0\n",
    "    j = 0\n",
    "    for i in range(video_rnn.shape[0]):\n",
    "        rnn_end_frame = each_video_frame[i]\n",
    "        loop_count = n[i].astype(np.int8)\n",
    "        print(\"video \", i , \" last frame of video \", rnn_end_frame)\n",
    "        for k in range(20, rnn_end_frame):\n",
    "            if y[k + frame_count] == 1:\n",
    "                if(option == \"train\"):\n",
    "                    for m in range(loop_count):\n",
    "                        original = X[frame_count + j:frame_count + k, :]\n",
    "                        noise = np.random.normal(0, .0001, original.shape)\n",
    "                        new =  np.float32(original + noise)\n",
    "                        X_rnn.append(new)\n",
    "                        y_rnn.append(y[k + frame_count])\n",
    "                X_rnn.append(X[frame_count + j:frame_count + k, :])\n",
    "                y_rnn.append(y[k + frame_count])\n",
    "                j+=1\n",
    "            else:\n",
    "                X_rnn.append(X[frame_count + j:frame_count + k, :])\n",
    "                y_rnn.append(y[k + frame_count])\n",
    "                j+=1\n",
    "        frame_count += each_video_frame[i]\n",
    "        print(\"total frames processed: \", frame_count)\n",
    "        j=0\n",
    "    \n",
    "    X_rnn, y_rnn = np.array(X_rnn), np.array(y_rnn)\n",
    "    \n",
    "    return X_rnn, y_rnn"
   ]
  },
  {
   "cell_type": "code",
   "execution_count": 8,
   "metadata": {},
   "outputs": [],
   "source": [
    "video_rnn = pickle.load(open(\"pickle/video_rnn.pickle\", \"rb\"))\n",
    "n = pickle.load(open(\"pickle/n.pickle\", \"rb\"))\n",
    "each_video_frame = pickle.load(open(\"pickle/each_video_frame.pickle\", \"rb\"))\n",
    "X = pickle.load(open(\"pickle/X.pickle\", \"rb\"))\n",
    "y = pickle.load(open(\"pickle/y.pickle\", \"rb\"))"
   ]
  },
  {
   "cell_type": "code",
   "execution_count": 9,
   "metadata": {},
   "outputs": [
    {
     "name": "stdout",
     "output_type": "stream",
     "text": [
      "video  0  last frame of video  6537\n",
      "total frames processed:  6537\n",
      "video  1  last frame of video  6651\n",
      "total frames processed:  13188\n",
      "video  2  last frame of video  1452\n",
      "total frames processed:  14640\n",
      "video  3  last frame of video  5514\n",
      "total frames processed:  20154\n",
      "video  4  last frame of video  6842\n",
      "total frames processed:  26996\n",
      "video  5  last frame of video  5559\n",
      "total frames processed:  32555\n",
      "video  6  last frame of video  6014\n",
      "total frames processed:  38569\n",
      "video  7  last frame of video  2801\n",
      "total frames processed:  41370\n",
      "video  8  last frame of video  3962\n",
      "total frames processed:  45332\n",
      "video  9  last frame of video  1436\n",
      "total frames processed:  46768\n",
      "video  10  last frame of video  2807\n",
      "total frames processed:  49575\n",
      "video  11  last frame of video  2681\n",
      "total frames processed:  52256\n",
      "video  12  last frame of video  2729\n",
      "total frames processed:  54985\n",
      "video  13  last frame of video  2083\n",
      "total frames processed:  57068\n",
      "video  14  last frame of video  4280\n",
      "total frames processed:  61348\n",
      "video  15  last frame of video  2827\n",
      "total frames processed:  64175\n",
      "video  16  last frame of video  5301\n",
      "total frames processed:  69476\n",
      "video  17  last frame of video  2742\n",
      "total frames processed:  72218\n",
      "video  18  last frame of video  5536\n",
      "total frames processed:  77754\n",
      "video  19  last frame of video  2815\n",
      "total frames processed:  80569\n"
     ]
    }
   ],
   "source": [
    "X_train, y_train = transform_to_rnn_shape(each_video_frame, video_rnn, X, y, \"train\", n)"
   ]
  },
  {
   "cell_type": "code",
   "execution_count": 22,
   "metadata": {
    "scrolled": true
   },
   "outputs": [
    {
     "name": "stdout",
     "output_type": "stream",
     "text": [
      "(146760, 20, 2048)\n",
      "(146760,)\n"
     ]
    }
   ],
   "source": [
    "print(X_train.shape)\n",
    "print(y_train.shape)"
   ]
  },
  {
   "cell_type": "code",
   "execution_count": 10,
   "metadata": {},
   "outputs": [],
   "source": [
    "global X_train, X_test, y_train, y_test\n",
    "X_train, X_test, y_train, y_test = train_test_split(X_train, y_train, random_state=42, test_size=0.2, stratify=y_train)"
   ]
  },
  {
   "cell_type": "code",
   "execution_count": 26,
   "metadata": {},
   "outputs": [
    {
     "name": "stdout",
     "output_type": "stream",
     "text": [
      "(117408, 20, 2048)\n",
      "(29352, 20, 2048)\n"
     ]
    }
   ],
   "source": [
    "print(X_train.shape)\n",
    "print(X_test.shape)"
   ]
  },
  {
   "cell_type": "code",
   "execution_count": 27,
   "metadata": {},
   "outputs": [],
   "source": [
    "with open('pickle/X_train.pickle', 'wb') as f:\n",
    "    pickle.dump(X_train, f)\n",
    "    \n",
    "with open('pickle/X_test.pickle', 'wb') as f:\n",
    "    pickle.dump(X_test, f)\n",
    "    \n",
    "with open('pickle/y_train.pickle', 'wb') as f:\n",
    "    pickle.dump(y_train, f)\n",
    "    \n",
    "with open('pickle/y_test.pickle', 'wb') as f:\n",
    "    pickle.dump(y_test, f)"
   ]
  }
 ],
 "metadata": {
  "kernelspec": {
   "display_name": "Python 3",
   "language": "python",
   "name": "python3"
  },
  "language_info": {
   "codemirror_mode": {
    "name": "ipython",
    "version": 3
   },
   "file_extension": ".py",
   "mimetype": "text/x-python",
   "name": "python",
   "nbconvert_exporter": "python",
   "pygments_lexer": "ipython3",
   "version": "3.8.5"
  }
 },
 "nbformat": 4,
 "nbformat_minor": 4
}
